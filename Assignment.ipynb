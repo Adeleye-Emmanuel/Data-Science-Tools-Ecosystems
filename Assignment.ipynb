{
 "cells": [
  {
   "cell_type": "markdown",
   "id": "974ded16-b13f-46b4-804f-605179895abe",
   "metadata": {},
   "source": [
    "# Data Science Tools and Ecosystem"
   ]
  },
  {
   "cell_type": "markdown",
   "id": "a33ad038-54da-440f-9126-a1aba107cce8",
   "metadata": {},
   "source": [
    "In this notebook, Data Science Tools and Ecosystem are summarized."
   ]
  },
  {
   "cell_type": "markdown",
   "id": "c13be3f4-1898-49bf-9816-56e7e1890c78",
   "metadata": {},
   "source": [
    "The below are some of the classical languages used in Data science:\n",
    "\n",
    "1. Python\n",
    "2. Scala\n",
    "3. R\n",
    "4. SQL, PostgreSQL, MongoDB\n",
    "5. C++\n",
    "6. SAS\n",
    "7. Go\n",
    "8. Java"
   ]
  },
  {
   "cell_type": "markdown",
   "id": "57c96a9c-49be-48b0-a3e6-5af04707403d",
   "metadata": {},
   "source": [
    "Some of the packages utilized in the aforementioned languages are listed below:\n",
    "\n",
    "1. Scipy\n",
    "2. Numpy\n",
    "3. Pandas\n",
    "4. Scikit-learn\n",
    "5. Nltk\n",
    "6. transformers\n",
    "7. langchain\n",
    "8. sqlite3\n",
    "9. matplotlib\n",
    "10. seaborn"
   ]
  },
  {
   "cell_type": "markdown",
   "id": "603dd0f0-a692-45b0-81cf-1c666514129e",
   "metadata": {},
   "source": [
    "#### **Data Science Tools**"
   ]
  },
  {
   "cell_type": "markdown",
   "id": "a7844a9d-e6d8-4c39-9e70-2710348acdce",
   "metadata": {},
   "source": [
    "| Tool           | Description |\n",
    "|---------------|-------------|\n",
    "| Jupyter Notebook | Interactive computing environment |\n",
    "| RStudio        | IDE for R programming |\n",
    "| TensorFlow     | Machine learning framework |\n",
    "| Scikit-Learn   | Machine learning library |\n",
    "| Apache Spark   | Big data processing framework |"
   ]
  },
  {
   "cell_type": "markdown",
   "id": "18238242-14fb-41ea-b06a-894427b98d93",
   "metadata": {},
   "source": [
    "#### **Arithmetic Expression Examples**"
   ]
  },
  {
   "cell_type": "markdown",
   "id": "236d862a-1fc9-4c7f-b247-678dde0d7b09",
   "metadata": {},
   "source": [
    "Arithmetic expressions are mathematical calculations that involve operations such as addition, subtraction, multiplication, and division."
   ]
  },
  {
   "cell_type": "code",
   "execution_count": 35,
   "id": "088aba40-f34d-4cbd-b1f9-ba75a3dba310",
   "metadata": {},
   "outputs": [
    {
     "name": "stdout",
     "output_type": "stream",
     "text": [
      "Answer: 17\n"
     ]
    }
   ],
   "source": [
    "# This a simple arithmetic expression to mutiply then add integers\n",
    "num1 = 3\n",
    "num2 = 4\n",
    "num3 = 5\n",
    "sum_result = num1 * num2\n",
    "result = sum_result + num3\n",
    "print(\"Answer:\", result)"
   ]
  },
  {
   "cell_type": "code",
   "execution_count": 37,
   "id": "731dbb2d-a917-4cff-aead-42b8bb7e6c98",
   "metadata": {},
   "outputs": [
    {
     "name": "stdout",
     "output_type": "stream",
     "text": [
      "Hours: 3.3333333333333335\n"
     ]
    }
   ],
   "source": [
    "# Convert minutes to hours\n",
    "minutes = 200\n",
    "hours = minutes / 60\n",
    "print(\"Hours:\", hours)"
   ]
  },
  {
   "cell_type": "markdown",
   "id": "dda2aa02-3588-466b-a113-ed6612677335",
   "metadata": {},
   "source": [
    "#### **Objectives**\n",
    "\n",
    "- Understand how to create markdown cells in Jupyter Notebook\n",
    "- List popular languages, libraries and tools used in data science\n",
    "- Learn how to perform arithmetic operations in Python\n",
    "- Practice writing and executing Python code cells\n"
   ]
  },
  {
   "cell_type": "markdown",
   "id": "885b6c4b-94b9-447e-a111-c4938aef4d89",
   "metadata": {},
   "source": [
    "#### **Author**\n",
    "Emmanuel Adeleye"
   ]
  }
 ],
 "metadata": {
  "kernelspec": {
   "display_name": "Python [conda env:base] *",
   "language": "python",
   "name": "conda-base-py"
  },
  "language_info": {
   "codemirror_mode": {
    "name": "ipython",
    "version": 3
   },
   "file_extension": ".py",
   "mimetype": "text/x-python",
   "name": "python",
   "nbconvert_exporter": "python",
   "pygments_lexer": "ipython3",
   "version": "3.12.4"
  }
 },
 "nbformat": 4,
 "nbformat_minor": 5
}
